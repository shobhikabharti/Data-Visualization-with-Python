{
 "cells": [
  {
   "cell_type": "code",
   "execution_count": 1,
   "metadata": {
    "id": "zEVagsiU2mYe"
   },
   "outputs": [],
   "source": [
    "#######################################################\n",
    "#######################################################\n",
    "############    COPYRIGHT - DATA SOCIETY   ############\n",
    "#######################################################\n",
    "#######################################################\n",
    "\n",
    "## Intro To Visualization In Python: Static Plots - 1 ##\n",
    "\n",
    "## NOTE: To run individual pieces of code, select the line of code and\n",
    "##       press ctrl + enter for PCs or command + enter for Macs\n",
    "\n",
    "\n"
   ]
  },
  {
   "cell_type": "code",
   "execution_count": 2,
   "metadata": {
    "id": "BYa3ib8a2mYh"
   },
   "outputs": [],
   "source": [
    "#=================================================-\n",
    "#### Slide 3/32: Loading packages  ####\n",
    "\n",
    "import pandas as pd\n",
    "import numpy as np\n",
    "import pickle\n",
    "import os\n",
    "from pathlib import Path\n",
    "\n",
    "\n"
   ]
  },
  {
   "cell_type": "code",
   "execution_count": 3,
   "metadata": {
    "id": "W4K72v2I2mYi",
    "outputId": "08f5d9a6-f2d2-403c-f3ff-6e0b9c32b7b9",
    "tags": []
   },
   "outputs": [
    {
     "name": "stdout",
     "output_type": "stream",
     "text": [
      "/Users/shobhikabharti/My Drive (bhartishobhika@gmail.com)/Documents/GitHub\n",
      "/Users/shobhikabharti/My Drive (bhartishobhika@gmail.com)/Documents/GitHub/data\n",
      "/Users/shobhikabharti/My Drive (bhartishobhika@gmail.com)/Documents/GitHub/plots\n"
     ]
    }
   ],
   "source": [
    "#=================================================-\n",
    "#### Slide 4/32: Directory settings  ####\n",
    "\n",
    "# Set 'main_dir' to location of the project folder\n",
    "home_dir = Path(\".\").resolve()\n",
    "main_dir = home_dir.parent\n",
    "print(main_dir)\n",
    "data_dir = str(main_dir) + \"/data\"\n",
    "print(data_dir)\n",
    "plot_dir = str(main_dir) + \"/plots\"\n",
    "if not os.path.exists(plot_dir):\n",
    "    os.makedirs(plot_dir)\n",
    "print(plot_dir)\n",
    "\n",
    "\n"
   ]
  },
  {
   "cell_type": "code",
   "execution_count": 4,
   "metadata": {
    "id": "2ZHFtzr12mYi"
   },
   "outputs": [],
   "source": [
    "#=================================================-\n",
    "#### Slide 5/32: Importing matplotlib  ####\n",
    "\n",
    "import matplotlib.pyplot as plt\n",
    "\n",
    "\n"
   ]
  },
  {
   "cell_type": "code",
   "execution_count": 5,
   "metadata": {
    "id": "i7fXHx1K2mYj",
    "outputId": "ff3a42d9-93ca-4323-8e4d-7efad2c8746b",
    "tags": []
   },
   "outputs": [
    {
     "ename": "FileNotFoundError",
     "evalue": "[Errno 2] No such file or directory: '/Users/shobhikabharti/My Drive (bhartishobhika@gmail.com)/Documents/GitHub/data/diabetes.csv'",
     "output_type": "error",
     "traceback": [
      "\u001b[0;31m---------------------------------------------------------------------------\u001b[0m",
      "\u001b[0;31mFileNotFoundError\u001b[0m                         Traceback (most recent call last)",
      "Cell \u001b[0;32mIn [5], line 6\u001b[0m\n\u001b[1;32m      1\u001b[0m \u001b[38;5;66;03m#=================================================-\u001b[39;00m\n\u001b[1;32m      2\u001b[0m \u001b[38;5;66;03m#### Slide 6/32: Dataset for visualization  ####\u001b[39;00m\n\u001b[1;32m      3\u001b[0m \n\u001b[1;32m      4\u001b[0m \u001b[38;5;66;03m# This dataset is of type dataframe. Let's assign this dataset to a variable, so that we can manipulate it freely.\u001b[39;00m\n\u001b[0;32m----> 6\u001b[0m df \u001b[38;5;241m=\u001b[39m \u001b[43mpd\u001b[49m\u001b[38;5;241;43m.\u001b[39;49m\u001b[43mread_csv\u001b[49m\u001b[43m(\u001b[49m\u001b[38;5;28;43mstr\u001b[39;49m\u001b[43m(\u001b[49m\u001b[43mdata_dir\u001b[49m\u001b[43m)\u001b[49m\u001b[38;5;241;43m+\u001b[39;49m\u001b[38;5;124;43m\"\u001b[39;49m\u001b[38;5;124;43m/\u001b[39;49m\u001b[38;5;124;43m\"\u001b[39;49m\u001b[43m \u001b[49m\u001b[38;5;241;43m+\u001b[39;49m\u001b[43m \u001b[49m\u001b[38;5;124;43m\"\u001b[39;49m\u001b[38;5;124;43mdiabetes.csv\u001b[39;49m\u001b[38;5;124;43m\"\u001b[39;49m\u001b[43m)\u001b[49m\n\u001b[1;32m      8\u001b[0m \u001b[38;5;28mprint\u001b[39m(\u001b[38;5;28mtype\u001b[39m(df))  \u001b[38;5;66;03m#<- a Pandas DataFrame!\u001b[39;00m\n\u001b[1;32m      9\u001b[0m \u001b[38;5;28mprint\u001b[39m(\u001b[38;5;28mlen\u001b[39m(df))\n",
      "File \u001b[0;32m/usr/local/lib/python3.10/site-packages/pandas/util/_decorators.py:211\u001b[0m, in \u001b[0;36mdeprecate_kwarg.<locals>._deprecate_kwarg.<locals>.wrapper\u001b[0;34m(*args, **kwargs)\u001b[0m\n\u001b[1;32m    209\u001b[0m     \u001b[38;5;28;01melse\u001b[39;00m:\n\u001b[1;32m    210\u001b[0m         kwargs[new_arg_name] \u001b[38;5;241m=\u001b[39m new_arg_value\n\u001b[0;32m--> 211\u001b[0m \u001b[38;5;28;01mreturn\u001b[39;00m \u001b[43mfunc\u001b[49m\u001b[43m(\u001b[49m\u001b[38;5;241;43m*\u001b[39;49m\u001b[43margs\u001b[49m\u001b[43m,\u001b[49m\u001b[43m \u001b[49m\u001b[38;5;241;43m*\u001b[39;49m\u001b[38;5;241;43m*\u001b[39;49m\u001b[43mkwargs\u001b[49m\u001b[43m)\u001b[49m\n",
      "File \u001b[0;32m/usr/local/lib/python3.10/site-packages/pandas/util/_decorators.py:317\u001b[0m, in \u001b[0;36mdeprecate_nonkeyword_arguments.<locals>.decorate.<locals>.wrapper\u001b[0;34m(*args, **kwargs)\u001b[0m\n\u001b[1;32m    311\u001b[0m \u001b[38;5;28;01mif\u001b[39;00m \u001b[38;5;28mlen\u001b[39m(args) \u001b[38;5;241m>\u001b[39m num_allow_args:\n\u001b[1;32m    312\u001b[0m     warnings\u001b[38;5;241m.\u001b[39mwarn(\n\u001b[1;32m    313\u001b[0m         msg\u001b[38;5;241m.\u001b[39mformat(arguments\u001b[38;5;241m=\u001b[39marguments),\n\u001b[1;32m    314\u001b[0m         \u001b[38;5;167;01mFutureWarning\u001b[39;00m,\n\u001b[1;32m    315\u001b[0m         stacklevel\u001b[38;5;241m=\u001b[39mfind_stack_level(inspect\u001b[38;5;241m.\u001b[39mcurrentframe()),\n\u001b[1;32m    316\u001b[0m     )\n\u001b[0;32m--> 317\u001b[0m \u001b[38;5;28;01mreturn\u001b[39;00m \u001b[43mfunc\u001b[49m\u001b[43m(\u001b[49m\u001b[38;5;241;43m*\u001b[39;49m\u001b[43margs\u001b[49m\u001b[43m,\u001b[49m\u001b[43m \u001b[49m\u001b[38;5;241;43m*\u001b[39;49m\u001b[38;5;241;43m*\u001b[39;49m\u001b[43mkwargs\u001b[49m\u001b[43m)\u001b[49m\n",
      "File \u001b[0;32m/usr/local/lib/python3.10/site-packages/pandas/io/parsers/readers.py:950\u001b[0m, in \u001b[0;36mread_csv\u001b[0;34m(filepath_or_buffer, sep, delimiter, header, names, index_col, usecols, squeeze, prefix, mangle_dupe_cols, dtype, engine, converters, true_values, false_values, skipinitialspace, skiprows, skipfooter, nrows, na_values, keep_default_na, na_filter, verbose, skip_blank_lines, parse_dates, infer_datetime_format, keep_date_col, date_parser, dayfirst, cache_dates, iterator, chunksize, compression, thousands, decimal, lineterminator, quotechar, quoting, doublequote, escapechar, comment, encoding, encoding_errors, dialect, error_bad_lines, warn_bad_lines, on_bad_lines, delim_whitespace, low_memory, memory_map, float_precision, storage_options)\u001b[0m\n\u001b[1;32m    935\u001b[0m kwds_defaults \u001b[38;5;241m=\u001b[39m _refine_defaults_read(\n\u001b[1;32m    936\u001b[0m     dialect,\n\u001b[1;32m    937\u001b[0m     delimiter,\n\u001b[0;32m   (...)\u001b[0m\n\u001b[1;32m    946\u001b[0m     defaults\u001b[38;5;241m=\u001b[39m{\u001b[38;5;124m\"\u001b[39m\u001b[38;5;124mdelimiter\u001b[39m\u001b[38;5;124m\"\u001b[39m: \u001b[38;5;124m\"\u001b[39m\u001b[38;5;124m,\u001b[39m\u001b[38;5;124m\"\u001b[39m},\n\u001b[1;32m    947\u001b[0m )\n\u001b[1;32m    948\u001b[0m kwds\u001b[38;5;241m.\u001b[39mupdate(kwds_defaults)\n\u001b[0;32m--> 950\u001b[0m \u001b[38;5;28;01mreturn\u001b[39;00m \u001b[43m_read\u001b[49m\u001b[43m(\u001b[49m\u001b[43mfilepath_or_buffer\u001b[49m\u001b[43m,\u001b[49m\u001b[43m \u001b[49m\u001b[43mkwds\u001b[49m\u001b[43m)\u001b[49m\n",
      "File \u001b[0;32m/usr/local/lib/python3.10/site-packages/pandas/io/parsers/readers.py:605\u001b[0m, in \u001b[0;36m_read\u001b[0;34m(filepath_or_buffer, kwds)\u001b[0m\n\u001b[1;32m    602\u001b[0m _validate_names(kwds\u001b[38;5;241m.\u001b[39mget(\u001b[38;5;124m\"\u001b[39m\u001b[38;5;124mnames\u001b[39m\u001b[38;5;124m\"\u001b[39m, \u001b[38;5;28;01mNone\u001b[39;00m))\n\u001b[1;32m    604\u001b[0m \u001b[38;5;66;03m# Create the parser.\u001b[39;00m\n\u001b[0;32m--> 605\u001b[0m parser \u001b[38;5;241m=\u001b[39m \u001b[43mTextFileReader\u001b[49m\u001b[43m(\u001b[49m\u001b[43mfilepath_or_buffer\u001b[49m\u001b[43m,\u001b[49m\u001b[43m \u001b[49m\u001b[38;5;241;43m*\u001b[39;49m\u001b[38;5;241;43m*\u001b[39;49m\u001b[43mkwds\u001b[49m\u001b[43m)\u001b[49m\n\u001b[1;32m    607\u001b[0m \u001b[38;5;28;01mif\u001b[39;00m chunksize \u001b[38;5;129;01mor\u001b[39;00m iterator:\n\u001b[1;32m    608\u001b[0m     \u001b[38;5;28;01mreturn\u001b[39;00m parser\n",
      "File \u001b[0;32m/usr/local/lib/python3.10/site-packages/pandas/io/parsers/readers.py:1442\u001b[0m, in \u001b[0;36mTextFileReader.__init__\u001b[0;34m(self, f, engine, **kwds)\u001b[0m\n\u001b[1;32m   1439\u001b[0m     \u001b[38;5;28mself\u001b[39m\u001b[38;5;241m.\u001b[39moptions[\u001b[38;5;124m\"\u001b[39m\u001b[38;5;124mhas_index_names\u001b[39m\u001b[38;5;124m\"\u001b[39m] \u001b[38;5;241m=\u001b[39m kwds[\u001b[38;5;124m\"\u001b[39m\u001b[38;5;124mhas_index_names\u001b[39m\u001b[38;5;124m\"\u001b[39m]\n\u001b[1;32m   1441\u001b[0m \u001b[38;5;28mself\u001b[39m\u001b[38;5;241m.\u001b[39mhandles: IOHandles \u001b[38;5;241m|\u001b[39m \u001b[38;5;28;01mNone\u001b[39;00m \u001b[38;5;241m=\u001b[39m \u001b[38;5;28;01mNone\u001b[39;00m\n\u001b[0;32m-> 1442\u001b[0m \u001b[38;5;28mself\u001b[39m\u001b[38;5;241m.\u001b[39m_engine \u001b[38;5;241m=\u001b[39m \u001b[38;5;28;43mself\u001b[39;49m\u001b[38;5;241;43m.\u001b[39;49m\u001b[43m_make_engine\u001b[49m\u001b[43m(\u001b[49m\u001b[43mf\u001b[49m\u001b[43m,\u001b[49m\u001b[43m \u001b[49m\u001b[38;5;28;43mself\u001b[39;49m\u001b[38;5;241;43m.\u001b[39;49m\u001b[43mengine\u001b[49m\u001b[43m)\u001b[49m\n",
      "File \u001b[0;32m/usr/local/lib/python3.10/site-packages/pandas/io/parsers/readers.py:1729\u001b[0m, in \u001b[0;36mTextFileReader._make_engine\u001b[0;34m(self, f, engine)\u001b[0m\n\u001b[1;32m   1727\u001b[0m     is_text \u001b[38;5;241m=\u001b[39m \u001b[38;5;28;01mFalse\u001b[39;00m\n\u001b[1;32m   1728\u001b[0m     mode \u001b[38;5;241m=\u001b[39m \u001b[38;5;124m\"\u001b[39m\u001b[38;5;124mrb\u001b[39m\u001b[38;5;124m\"\u001b[39m\n\u001b[0;32m-> 1729\u001b[0m \u001b[38;5;28mself\u001b[39m\u001b[38;5;241m.\u001b[39mhandles \u001b[38;5;241m=\u001b[39m \u001b[43mget_handle\u001b[49m\u001b[43m(\u001b[49m\n\u001b[1;32m   1730\u001b[0m \u001b[43m    \u001b[49m\u001b[43mf\u001b[49m\u001b[43m,\u001b[49m\n\u001b[1;32m   1731\u001b[0m \u001b[43m    \u001b[49m\u001b[43mmode\u001b[49m\u001b[43m,\u001b[49m\n\u001b[1;32m   1732\u001b[0m \u001b[43m    \u001b[49m\u001b[43mencoding\u001b[49m\u001b[38;5;241;43m=\u001b[39;49m\u001b[38;5;28;43mself\u001b[39;49m\u001b[38;5;241;43m.\u001b[39;49m\u001b[43moptions\u001b[49m\u001b[38;5;241;43m.\u001b[39;49m\u001b[43mget\u001b[49m\u001b[43m(\u001b[49m\u001b[38;5;124;43m\"\u001b[39;49m\u001b[38;5;124;43mencoding\u001b[39;49m\u001b[38;5;124;43m\"\u001b[39;49m\u001b[43m,\u001b[49m\u001b[43m \u001b[49m\u001b[38;5;28;43;01mNone\u001b[39;49;00m\u001b[43m)\u001b[49m\u001b[43m,\u001b[49m\n\u001b[1;32m   1733\u001b[0m \u001b[43m    \u001b[49m\u001b[43mcompression\u001b[49m\u001b[38;5;241;43m=\u001b[39;49m\u001b[38;5;28;43mself\u001b[39;49m\u001b[38;5;241;43m.\u001b[39;49m\u001b[43moptions\u001b[49m\u001b[38;5;241;43m.\u001b[39;49m\u001b[43mget\u001b[49m\u001b[43m(\u001b[49m\u001b[38;5;124;43m\"\u001b[39;49m\u001b[38;5;124;43mcompression\u001b[39;49m\u001b[38;5;124;43m\"\u001b[39;49m\u001b[43m,\u001b[49m\u001b[43m \u001b[49m\u001b[38;5;28;43;01mNone\u001b[39;49;00m\u001b[43m)\u001b[49m\u001b[43m,\u001b[49m\n\u001b[1;32m   1734\u001b[0m \u001b[43m    \u001b[49m\u001b[43mmemory_map\u001b[49m\u001b[38;5;241;43m=\u001b[39;49m\u001b[38;5;28;43mself\u001b[39;49m\u001b[38;5;241;43m.\u001b[39;49m\u001b[43moptions\u001b[49m\u001b[38;5;241;43m.\u001b[39;49m\u001b[43mget\u001b[49m\u001b[43m(\u001b[49m\u001b[38;5;124;43m\"\u001b[39;49m\u001b[38;5;124;43mmemory_map\u001b[39;49m\u001b[38;5;124;43m\"\u001b[39;49m\u001b[43m,\u001b[49m\u001b[43m \u001b[49m\u001b[38;5;28;43;01mFalse\u001b[39;49;00m\u001b[43m)\u001b[49m\u001b[43m,\u001b[49m\n\u001b[1;32m   1735\u001b[0m \u001b[43m    \u001b[49m\u001b[43mis_text\u001b[49m\u001b[38;5;241;43m=\u001b[39;49m\u001b[43mis_text\u001b[49m\u001b[43m,\u001b[49m\n\u001b[1;32m   1736\u001b[0m \u001b[43m    \u001b[49m\u001b[43merrors\u001b[49m\u001b[38;5;241;43m=\u001b[39;49m\u001b[38;5;28;43mself\u001b[39;49m\u001b[38;5;241;43m.\u001b[39;49m\u001b[43moptions\u001b[49m\u001b[38;5;241;43m.\u001b[39;49m\u001b[43mget\u001b[49m\u001b[43m(\u001b[49m\u001b[38;5;124;43m\"\u001b[39;49m\u001b[38;5;124;43mencoding_errors\u001b[39;49m\u001b[38;5;124;43m\"\u001b[39;49m\u001b[43m,\u001b[49m\u001b[43m \u001b[49m\u001b[38;5;124;43m\"\u001b[39;49m\u001b[38;5;124;43mstrict\u001b[39;49m\u001b[38;5;124;43m\"\u001b[39;49m\u001b[43m)\u001b[49m\u001b[43m,\u001b[49m\n\u001b[1;32m   1737\u001b[0m \u001b[43m    \u001b[49m\u001b[43mstorage_options\u001b[49m\u001b[38;5;241;43m=\u001b[39;49m\u001b[38;5;28;43mself\u001b[39;49m\u001b[38;5;241;43m.\u001b[39;49m\u001b[43moptions\u001b[49m\u001b[38;5;241;43m.\u001b[39;49m\u001b[43mget\u001b[49m\u001b[43m(\u001b[49m\u001b[38;5;124;43m\"\u001b[39;49m\u001b[38;5;124;43mstorage_options\u001b[39;49m\u001b[38;5;124;43m\"\u001b[39;49m\u001b[43m,\u001b[49m\u001b[43m \u001b[49m\u001b[38;5;28;43;01mNone\u001b[39;49;00m\u001b[43m)\u001b[49m\u001b[43m,\u001b[49m\n\u001b[1;32m   1738\u001b[0m \u001b[43m\u001b[49m\u001b[43m)\u001b[49m\n\u001b[1;32m   1739\u001b[0m \u001b[38;5;28;01massert\u001b[39;00m \u001b[38;5;28mself\u001b[39m\u001b[38;5;241m.\u001b[39mhandles \u001b[38;5;129;01mis\u001b[39;00m \u001b[38;5;129;01mnot\u001b[39;00m \u001b[38;5;28;01mNone\u001b[39;00m\n\u001b[1;32m   1740\u001b[0m f \u001b[38;5;241m=\u001b[39m \u001b[38;5;28mself\u001b[39m\u001b[38;5;241m.\u001b[39mhandles\u001b[38;5;241m.\u001b[39mhandle\n",
      "File \u001b[0;32m/usr/local/lib/python3.10/site-packages/pandas/io/common.py:857\u001b[0m, in \u001b[0;36mget_handle\u001b[0;34m(path_or_buf, mode, encoding, compression, memory_map, is_text, errors, storage_options)\u001b[0m\n\u001b[1;32m    852\u001b[0m \u001b[38;5;28;01melif\u001b[39;00m \u001b[38;5;28misinstance\u001b[39m(handle, \u001b[38;5;28mstr\u001b[39m):\n\u001b[1;32m    853\u001b[0m     \u001b[38;5;66;03m# Check whether the filename is to be opened in binary mode.\u001b[39;00m\n\u001b[1;32m    854\u001b[0m     \u001b[38;5;66;03m# Binary mode does not support 'encoding' and 'newline'.\u001b[39;00m\n\u001b[1;32m    855\u001b[0m     \u001b[38;5;28;01mif\u001b[39;00m ioargs\u001b[38;5;241m.\u001b[39mencoding \u001b[38;5;129;01mand\u001b[39;00m \u001b[38;5;124m\"\u001b[39m\u001b[38;5;124mb\u001b[39m\u001b[38;5;124m\"\u001b[39m \u001b[38;5;129;01mnot\u001b[39;00m \u001b[38;5;129;01min\u001b[39;00m ioargs\u001b[38;5;241m.\u001b[39mmode:\n\u001b[1;32m    856\u001b[0m         \u001b[38;5;66;03m# Encoding\u001b[39;00m\n\u001b[0;32m--> 857\u001b[0m         handle \u001b[38;5;241m=\u001b[39m \u001b[38;5;28;43mopen\u001b[39;49m\u001b[43m(\u001b[49m\n\u001b[1;32m    858\u001b[0m \u001b[43m            \u001b[49m\u001b[43mhandle\u001b[49m\u001b[43m,\u001b[49m\n\u001b[1;32m    859\u001b[0m \u001b[43m            \u001b[49m\u001b[43mioargs\u001b[49m\u001b[38;5;241;43m.\u001b[39;49m\u001b[43mmode\u001b[49m\u001b[43m,\u001b[49m\n\u001b[1;32m    860\u001b[0m \u001b[43m            \u001b[49m\u001b[43mencoding\u001b[49m\u001b[38;5;241;43m=\u001b[39;49m\u001b[43mioargs\u001b[49m\u001b[38;5;241;43m.\u001b[39;49m\u001b[43mencoding\u001b[49m\u001b[43m,\u001b[49m\n\u001b[1;32m    861\u001b[0m \u001b[43m            \u001b[49m\u001b[43merrors\u001b[49m\u001b[38;5;241;43m=\u001b[39;49m\u001b[43merrors\u001b[49m\u001b[43m,\u001b[49m\n\u001b[1;32m    862\u001b[0m \u001b[43m            \u001b[49m\u001b[43mnewline\u001b[49m\u001b[38;5;241;43m=\u001b[39;49m\u001b[38;5;124;43m\"\u001b[39;49m\u001b[38;5;124;43m\"\u001b[39;49m\u001b[43m,\u001b[49m\n\u001b[1;32m    863\u001b[0m \u001b[43m        \u001b[49m\u001b[43m)\u001b[49m\n\u001b[1;32m    864\u001b[0m     \u001b[38;5;28;01melse\u001b[39;00m:\n\u001b[1;32m    865\u001b[0m         \u001b[38;5;66;03m# Binary mode\u001b[39;00m\n\u001b[1;32m    866\u001b[0m         handle \u001b[38;5;241m=\u001b[39m \u001b[38;5;28mopen\u001b[39m(handle, ioargs\u001b[38;5;241m.\u001b[39mmode)\n",
      "\u001b[0;31mFileNotFoundError\u001b[0m: [Errno 2] No such file or directory: '/Users/shobhikabharti/My Drive (bhartishobhika@gmail.com)/Documents/GitHub/data/diabetes.csv'"
     ]
    }
   ],
   "source": [
    "#=================================================-\n",
    "#### Slide 6/32: Dataset for visualization  ####\n",
    "\n",
    "# This dataset is of type dataframe. Let's assign this dataset to a variable, so that we can manipulate it freely.\n",
    "\n",
    "df = pd.read_csv(str(data_dir)+\"/\" + \"diabetes.csv\")\n",
    "\n",
    "print(type(df))  #<- a Pandas DataFrame!\n",
    "print(len(df))   #<- returns the number of rows\n",
    "\n",
    "\n"
   ]
  },
  {
   "cell_type": "code",
   "execution_count": null,
   "metadata": {
    "id": "0NXnjjsw2mYj",
    "outputId": "5416f5eb-b6a2-4725-d48a-a2326d5d6edd"
   },
   "outputs": [],
   "source": [
    "#=================================================-\n",
    "#### Slide 7/32: Subsetting data  ####\n",
    "\n",
    "df_subset = df[['BMI', 'SkinThickness', 'BloodPressure', 'Age', 'Glucose', 'Insulin', 'DiabetesPedigreeFunction', 'Outcome', 'Pregnancies']]\n",
    "print(df_subset.head())\n",
    "\n",
    "\n"
   ]
  },
  {
   "cell_type": "code",
   "execution_count": null,
   "metadata": {
    "id": "JfOpP0RS2mYk",
    "outputId": "d2de62d0-7018-4b43-8b8c-27d781993946"
   },
   "outputs": [],
   "source": [
    "#=================================================-\n",
    "#### Slide 11/32: Prepare data: group and summarize (cont'd)  ####\n",
    "\n",
    "col_dict = df_subset.nunique().to_dict()\n",
    "grouping_col = min(col_dict, key=col_dict.get)\n",
    "# Group data by variable with min levels.\n",
    "grouped = df_subset.groupby(grouping_col)\n",
    "# Compute mean on the listed variables using the grouped data.\n",
    "df_grouped_mean = grouped.mean()[['BMI', 'SkinThickness', 'BloodPressure', 'Age', 'Glucose', 'Insulin', 'DiabetesPedigreeFunction']]\n",
    "print(df_grouped_mean)\n",
    "\n",
    "\n"
   ]
  },
  {
   "cell_type": "code",
   "execution_count": null,
   "metadata": {
    "id": "OqbfA7m32mYk",
    "outputId": "14fdff69-9e02-4398-eb63-eae51a4e70f3"
   },
   "outputs": [],
   "source": [
    "#=================================================-\n",
    "#### Slide 12/32: Prepare data: group and summarize (cont'd)  ####\n",
    "\n",
    "# Reset index of the dataset.\n",
    "df_grouped_mean = df_grouped_mean.reset_index()\n",
    "print(df_grouped_mean)\n",
    "\n",
    "\n"
   ]
  },
  {
   "cell_type": "code",
   "execution_count": null,
   "metadata": {
    "id": "2-Lw-zpx2mYl",
    "outputId": "da4fccd8-4006-433b-f09a-9ff749b17fec"
   },
   "outputs": [],
   "source": [
    "#=================================================-\n",
    "#### Slide 15/32: Wide to long format: melt (cont'd)  ####\n",
    "\n",
    "# Melt the wide data into long.\n",
    "df_grouped_mean_long = pd.melt(df_grouped_mean,       #<- wide dataset\n",
    "                                  id_vars = [grouping_col],     #<- identifying variable\n",
    "                                  var_name = 'metric',      #<- contains col names of wide data\n",
    "                                  value_name = 'mean')      #<- contains values from above columns\n",
    "print(df_grouped_mean_long) \n",
    "\n",
    "\n"
   ]
  },
  {
   "cell_type": "code",
   "execution_count": null,
   "metadata": {
    "id": "-Xj8ZIm12mYl",
    "outputId": "8470e1e6-a6ce-4abd-e95e-c821d6f8311d"
   },
   "outputs": [],
   "source": [
    "#=================================================-\n",
    "#### Slide 17/32: Long to wide format: pivot (cont'd)  ####\n",
    "\n",
    "# Melt the long data into wide.\n",
    "df_grouped_mean_wide = df_grouped_mean_long.pivot(\n",
    "                                                    index = [grouping_col],   #<- identifying variable\n",
    "                                                    columns = 'metric', #<- col names of wide data\n",
    "                                                    values = 'mean')    #<- values from above columns\n",
    "print(df_grouped_mean_wide)\n",
    "\n",
    "\n"
   ]
  },
  {
   "cell_type": "code",
   "execution_count": null,
   "metadata": {
    "id": "y3PfWs812mYm",
    "outputId": "5d27cdb2-47b3-477e-8e1f-35ae6b89afe6"
   },
   "outputs": [],
   "source": [
    "#=================================================-\n",
    "#### Slide 20/32: Univariate plots: histogram  ####\n",
    "\n",
    "plt.rcParams.update({'font.size': 15})\n",
    "plt.hist(df_subset['BMI'])\n",
    "plt.show()\n",
    "\n",
    "\n"
   ]
  },
  {
   "cell_type": "code",
   "execution_count": null,
   "metadata": {
    "id": "4rcQmw782mYm",
    "outputId": "c0f3f112-ece3-4104-c5f9-1b583b982c84"
   },
   "outputs": [],
   "source": [
    "#=================================================-\n",
    "#### Slide 21/32: Univariate plots: histogram (cont'd)  ####\n",
    "\n",
    "plt.hist(df_subset['BMI'], bins = 20)\n",
    "plt.xlabel('BMI')       #<- label x-axis\n",
    "plt.ylabel('Frequency')      #<- label y-axis\n",
    "plt.title('BMI distribution')      #<- add plot title\n",
    "plt.show()\n",
    "\n",
    "\n"
   ]
  },
  {
   "cell_type": "code",
   "execution_count": null,
   "metadata": {
    "id": "ehxL2WUY2mYm",
    "outputId": "e9f60c6f-7b5a-4e3f-fce0-8c9055bc1c5f"
   },
   "outputs": [],
   "source": [
    "#=================================================-\n",
    "#### Slide 22/32: Univariate plots: boxplot  ####\n",
    "\n",
    "plt.boxplot(df_subset['BMI'])\n",
    "plt.show()\n",
    "\n",
    "\n"
   ]
  },
  {
   "cell_type": "code",
   "execution_count": null,
   "metadata": {
    "id": "jz5EBRPj2mYn",
    "outputId": "4bb6dc2c-e405-4c32-f52a-2077b692c602"
   },
   "outputs": [],
   "source": [
    "#=================================================-\n",
    "#### Slide 23/32: Univariate plots: boxplot (cont'd)  ####\n",
    "\n",
    "plt.boxplot(df_subset['BMI'], vert = False)\n",
    "plt.xlabel('BMI')       # label x-axis\n",
    "plt.title('BMI distribution')      # add plot title\n",
    "plt.show()\n",
    "\n",
    "\n"
   ]
  },
  {
   "cell_type": "code",
   "execution_count": null,
   "metadata": {
    "id": "Kyeomuuu2mYn",
    "outputId": "323d6cc9-3f8b-49ff-897d-f4e862c61611"
   },
   "outputs": [],
   "source": [
    "#=================================================-\n",
    "#### Slide 25/32: Univariate plots: bar chart - cont'd  ####\n",
    "\n",
    "print(df_grouped_mean_long.head())\n",
    "\n",
    "\n"
   ]
  },
  {
   "cell_type": "code",
   "execution_count": null,
   "metadata": {
    "id": "vJwf_FZZ2mYn",
    "outputId": "c0b556e0-ca7c-49d5-c6ed-90ca177ca0d8"
   },
   "outputs": [],
   "source": [
    "#=================================================-\n",
    "#### Slide 26/32: Univariate plots: bar chart - cont'd  ####\n",
    "\n",
    "query = 'Outcome' + \"==\" + str('0')\n",
    "df_true_means = df_grouped_mean_long.query(query)[['metric','mean']]\n",
    "print(df_true_means)\n",
    "\n",
    "\n"
   ]
  },
  {
   "cell_type": "code",
   "execution_count": null,
   "metadata": {
    "id": "YXOtRsDX2mYn"
   },
   "outputs": [],
   "source": [
    "#=================================================-\n",
    "#### Slide 27/32: Univariate plots: bar chart - cont'd  ####\n",
    "\n",
    "bar_labels = df_true_means['metric']     #<- 1\n",
    "bar_heights = df_true_means['mean']      #<- 2\n",
    "num_bars = len(bar_heights)\n",
    "bar_positions = np.arange(num_bars)      #<- 3\n",
    "\n",
    "\n"
   ]
  },
  {
   "cell_type": "code",
   "execution_count": null,
   "metadata": {
    "id": "dRlq1-Ss2mYo",
    "outputId": "9faadf78-c0a4-48cb-b487-cac721522bd9"
   },
   "outputs": [],
   "source": [
    "#=================================================-\n",
    "#### Slide 28/32: Univariate plots: bar chart - cont'd  ####\n",
    "\n",
    "# Adjust figure size before plotting.\n",
    "plt.figure(figsize = (15, 12)) \n",
    "plt.bar(bar_positions, bar_heights)\n",
    "plt.xticks(bar_positions, \n",
    "           bar_labels, \n",
    "           rotation = 18)\n",
    "plt.ylabel('Mean values')\n",
    "plt.title('Columns and their means')  #<- add plot title\n",
    "plt.show()\n",
    "\n",
    "\n",
    "#######################################################\n",
    "####  CONGRATULATIONS ON COMPLETING THIS MODULE!   ####\n",
    "#######################################################\n"
   ]
  },
  {
   "cell_type": "code",
   "execution_count": null,
   "metadata": {
    "id": "tq7NYrlL2mYo"
   },
   "outputs": [],
   "source": [
    "#######################################################\n",
    "#######################################################\n",
    "############    COPYRIGHT - DATA SOCIETY   ############\n",
    "#######################################################\n",
    "#######################################################\n",
    "\n",
    "## Intro To Visualization In Python: Static Plots - 2 ##\n",
    "\n",
    "## NOTE: To run individual pieces of code, select the line of code and\n",
    "##       press ctrl + enter for PCs or command + enter for Macs\n",
    "\n",
    "\n"
   ]
  },
  {
   "cell_type": "code",
   "execution_count": null,
   "metadata": {
    "id": "8gVWSbO52mYo",
    "outputId": "95d97d32-f085-492e-db0f-239aa3ce3a31"
   },
   "outputs": [],
   "source": [
    "#=================================================-\n",
    "#### Slide 13/32: Bivariate plots: scatterplot  ####\n",
    "\n",
    "plt.scatter(df_subset['BMI'],\n",
    "            df_subset['SkinThickness'])\n",
    "plt.show()\n",
    "\n",
    "\n"
   ]
  },
  {
   "cell_type": "code",
   "execution_count": null,
   "metadata": {
    "id": "SCKzhoed2mYo",
    "outputId": "07113c2a-f40b-4189-e4db-2238f9aae274"
   },
   "outputs": [],
   "source": [
    "#=================================================-\n",
    "#### Slide 14/32: Bivariate plots: scatterplot - cont'd  ####\n",
    "\n",
    "plt.scatter(df_subset['BMI'],\n",
    "            df_subset['SkinThickness'],\n",
    "            marker = \"D\") #<- set marker type to diamond\n",
    "plt.xlabel('BMI')\n",
    "plt.ylabel('SkinThickness')\n",
    "plt.title('BMI SkinThickness distribution')\n",
    "plt.show()\n",
    "\n",
    "\n"
   ]
  },
  {
   "cell_type": "code",
   "execution_count": null,
   "metadata": {
    "id": "ldvp6_412mYo",
    "outputId": "84921592-2e5e-48ef-a850-061f034381ec"
   },
   "outputs": [],
   "source": [
    "#=================================================-\n",
    "#### Slide 17/32: Customize colors - cont'd  ####\n",
    "\n",
    "plt.hist(df_subset['BMI'],\n",
    "            facecolor = 'goldenrod') #<- set color\n",
    "plt.xlabel('BMI')\n",
    "plt.ylabel('Frequency')\n",
    "plt.title('BMI distribution')\n",
    "plt.show()\n",
    "\n",
    "\n"
   ]
  },
  {
   "cell_type": "code",
   "execution_count": null,
   "metadata": {
    "id": "mnyOlfzw2mYp",
    "outputId": "f05792a7-ea49-4e95-a2eb-bada7e549352"
   },
   "outputs": [],
   "source": [
    "#=================================================-\n",
    "#### Slide 18/32: Customize colors - cont'd  ####\n",
    "\n",
    "plt.bar(bar_positions, \n",
    "        bar_heights, \n",
    "        color = \"orchid\")\n",
    "plt.xticks(bar_positions, \n",
    "           bar_labels,\n",
    "           rotation=15)\n",
    "plt.ylabel('Mean values')\n",
    "plt.title('Column Means')  \n",
    "plt.show()\n",
    "\n",
    "\n"
   ]
  },
  {
   "cell_type": "code",
   "execution_count": null,
   "metadata": {
    "id": "L5lH17zf2mYp",
    "outputId": "f6a156aa-de67-44b5-a490-b80fb1b0c893"
   },
   "outputs": [],
   "source": [
    "#=================================================-\n",
    "#### Slide 19/32: Customize color: scatterplot  ####\n",
    "\n",
    "plt.scatter(df_subset['BMI'],\n",
    "            df_subset['SkinThickness'],\n",
    "            c = 'darkorange') #<- set marker type to diamond\n",
    "plt.xlabel('BMI')\n",
    "plt.ylabel('SkinThickness')\n",
    "plt.title('BMI SkinThickness distribution')\n",
    "plt.show()\n",
    "\n",
    "\n"
   ]
  },
  {
   "cell_type": "code",
   "execution_count": null,
   "metadata": {
    "id": "_A4rgotZ2mYp",
    "outputId": "63f588ea-6bc6-4c3b-8da8-5d1ecfd544ac"
   },
   "outputs": [],
   "source": [
    "#=================================================-\n",
    "#### Slide 21/32: Customize color: map colors - cont'd  ####\n",
    "\n",
    "color_dict = {int('0'): 'darkseagreen', \n",
    "              int('1'): 'palevioletred'}\n",
    "color = df_subset['Outcome'].map(color_dict)\n",
    "print(color.head())\n",
    "plt.scatter(df_subset['BMI'],\n",
    "            df_subset['SkinThickness'],\n",
    "            c = color)\n",
    "plt.xlabel('BMI')\n",
    "plt.ylabel('SkinThickness')\n",
    "plt.title('BMI SkinThickness distribution')\n",
    "plt.show()\n",
    "\n",
    "\n"
   ]
  },
  {
   "cell_type": "code",
   "execution_count": null,
   "metadata": {
    "id": "gdxyB2Rk2mYp",
    "outputId": "a6835dcf-769b-488c-9944-33747cc4eacc"
   },
   "outputs": [],
   "source": [
    "#=================================================-\n",
    "#### Slide 23/32: Customize color: opacity  ####\n",
    "\n",
    "plt.scatter(df_subset['BMI'],\n",
    "            df_subset['SkinThickness'],\n",
    "            c = color,\n",
    "            alpha = 0.3)\n",
    "plt.xlabel('BMI')\n",
    "plt.ylabel('SkinThickness')\n",
    "plt.title('BMI SkinThickness distribution')\n",
    "plt.show()\n",
    "\n",
    "\n"
   ]
  },
  {
   "cell_type": "code",
   "execution_count": null,
   "metadata": {
    "id": "efjL2xa32mYp",
    "outputId": "602d1f79-deac-44c2-818d-dbf5ef51e3c6"
   },
   "outputs": [],
   "source": [
    "#=================================================-\n",
    "#### Slide 24/32: Customize plot settings: available styles  ####\n",
    "\n",
    "print(plt.style.available)\n",
    "plt.style.use('ggplot')\n",
    "\n",
    "\n"
   ]
  },
  {
   "cell_type": "code",
   "execution_count": null,
   "metadata": {
    "id": "HH75FjBN2mYp",
    "outputId": "f94ed600-c9af-44f7-f1cc-42086c669cab"
   },
   "outputs": [],
   "source": [
    "#=================================================-\n",
    "#### Slide 25/32: Customize plot settings: test ggplot style  ####\n",
    "\n",
    "plt.scatter(df_subset['BMI'],\n",
    "            df_subset['SkinThickness'],\n",
    "            c = color,\n",
    "            alpha = 0.3)\n",
    "plt.xlabel('BMI')\n",
    "plt.ylabel('SkinThickness')\n",
    "plt.title('BMI SkinThickness distribution')\n",
    "plt.show()\n",
    "\n",
    "\n"
   ]
  },
  {
   "cell_type": "code",
   "execution_count": null,
   "metadata": {
    "id": "B6VTF_fV2mYq",
    "outputId": "2dc3fb81-4547-41e2-a459-a7eb74d1b1f8"
   },
   "outputs": [],
   "source": [
    "#=================================================  -\n",
    "#### Slide 27/32: Customize plot settings: labels  ####\n",
    "\n",
    "plt.rcParams['axes.labelsize'] = 20\n",
    "plt.rcParams['axes.labelcolor'] = 'red'\n",
    "plt.rcParams['axes.titlesize'] = 25\n",
    "plt.scatter(df_subset['BMI'],\n",
    "            df_subset['SkinThickness'],\n",
    "            c = color,\n",
    "            alpha = 0.3)\n",
    "plt.xlabel('BMI')\n",
    "plt.ylabel('SkinThickness')\n",
    "plt.title('BMI SkinThickness distribution')\n",
    "plt.show()\n",
    "\n",
    "\n"
   ]
  },
  {
   "cell_type": "code",
   "execution_count": null,
   "metadata": {
    "id": "_VkA6csG2mYq",
    "outputId": "5f026d30-7b02-4350-d157-d7be826f589d"
   },
   "outputs": [],
   "source": [
    "#================================================= -\n",
    "#### Slide 28/32: Customize plot settings: reset defaults  ####\n",
    "\n",
    "plt.rcdefaults()\n",
    "plt.scatter(df_subset['BMI'],\n",
    "            df_subset['SkinThickness'],\n",
    "            c = color,\n",
    "            alpha = 0.3)\n",
    "plt.xlabel('BMI')\n",
    "plt.ylabel('SkinThickness')\n",
    "plt.title('BMI SkinThickness distribution')\n",
    "plt.show()\n",
    "\n",
    "\n",
    "#######################################################\n",
    "####  CONGRATULATIONS ON COMPLETING THIS MODULE!   ####\n",
    "#######################################################\n"
   ]
  },
  {
   "cell_type": "code",
   "execution_count": null,
   "metadata": {
    "id": "_KaH5SUB2mYq"
   },
   "outputs": [],
   "source": [
    "#######################################################\n",
    "#######################################################\n",
    "############    COPYRIGHT - DATA SOCIETY   ############\n",
    "#######################################################\n",
    "#######################################################\n",
    "\n",
    "## Intro To Visualization In Python: Static Plots - 3 ##\n",
    "\n",
    "## NOTE: To run individual pieces of code, select the line of code and\n",
    "##       press ctrl + enter for PCs or command + enter for Macs\n",
    "\n",
    "\n"
   ]
  },
  {
   "cell_type": "code",
   "execution_count": null,
   "metadata": {
    "id": "8ACSftyC2mYq",
    "outputId": "46048205-cbd6-440b-cd56-14ab947be904"
   },
   "outputs": [],
   "source": [
    "#=================================================-\n",
    "#### Slide 4/30: Complex univariate plots: violin plots  ####\n",
    "\n",
    "plt.violinplot(df_subset['BMI'],\n",
    "               showmeans=False,  \n",
    "               showmedians=True)\n",
    "plt.show()\n",
    "\n",
    "\n"
   ]
  },
  {
   "cell_type": "code",
   "execution_count": null,
   "metadata": {
    "id": "kCIP9xUv2mYq",
    "outputId": "3ff49dba-c0d2-4fbf-c550-f69142b85687"
   },
   "outputs": [],
   "source": [
    "#=================================================-\n",
    "#### Slide 6/30: Univariate plots: violin plot (cont'd)  ####\n",
    "\n",
    "plt.violinplot(df_subset['BMI'], vert = False, showmeans=False, showmedians=True)\n",
    "plt.xlabel('BMI')\n",
    "plt.title('BMI distribution')\n",
    "plt.show()\n",
    "\n",
    "\n"
   ]
  },
  {
   "cell_type": "code",
   "execution_count": null,
   "metadata": {
    "id": "JcuXDf8g2mYq",
    "outputId": "cfa78cab-1fca-4ece-f328-0a21cb7b0ffb"
   },
   "outputs": [],
   "source": [
    "#=================================================-\n",
    "#### Slide 8/30: Compound visualizations: grids  ####\n",
    "\n",
    "# Create a 2 x 2 figure and axes grid.\n",
    "fig, axes = plt.subplots(2, 2) \n",
    "plt.show()\n",
    "\n",
    "\n"
   ]
  },
  {
   "cell_type": "code",
   "execution_count": null,
   "metadata": {
    "id": "8WbX_aMW2mYr",
    "outputId": "e45a3e75-0946-479c-df3a-4d8703072743"
   },
   "outputs": [],
   "source": [
    "#=================================================-\n",
    "#### Slide 9/30: Compound visualizations: axes  ####\n",
    "\n",
    "print(axes)\n",
    "\n",
    "\n"
   ]
  },
  {
   "cell_type": "code",
   "execution_count": null,
   "metadata": {
    "id": "8iJoR9X82mYr",
    "outputId": "0b52e348-0129-425c-e5a5-2e3439fca7b2"
   },
   "outputs": [],
   "source": [
    "#=================================================-\n",
    "#### Slide 10/30: Compound visualizations: axes (cont'd)  ####\n",
    "\n",
    "plt.clf()\n",
    "plt.figure(figsize = (8, 8))\n",
    "plt.rcParams.update({'font.size': 14})\n",
    "fig, axes = plt.subplots(2, 2) \n",
    "\n",
    "axes[0, 0].hist(df_subset['BMI'], \n",
    "                facecolor = 'goldenrod') #<- set color\n",
    "\n",
    "\n"
   ]
  },
  {
   "cell_type": "code",
   "execution_count": null,
   "metadata": {
    "id": "y_58XcQp2mYr",
    "outputId": "85efc625-02c8-4042-87a3-f3f5152887d1"
   },
   "outputs": [],
   "source": [
    "#=================================================-\n",
    "#### Slide 11/30: Compound visualizations: axes (cont'd)  ####\n",
    "\n",
    "plt.figure(figsize = (12, 8))\n",
    "fig, axes = plt.subplots(2, 2)\n",
    "color_dict = {int('0'): 'darkseagreen', \n",
    "              int('1'): 'palevioletred'}\n",
    "color = df_subset['Outcome'].map(color_dict)\n",
    "axes[0, 0].hist(df_subset['BMI'],\n",
    "                facecolor = 'goldenrod') #<- set color\n",
    "axes[0, 1].boxplot(df_subset['BMI']) \n",
    "axes[1, 0].scatter(df_subset['BMI'],\n",
    "                   df_subset['SkinThickness'],\n",
    "                   c = color,\n",
    "                   alpha = 0.3)\n",
    "axes[1, 1].bar(bar_positions, bar_heights,\n",
    "               color = \"salmon\")\n",
    "plt.show()\n",
    "\n",
    "\n"
   ]
  },
  {
   "cell_type": "code",
   "execution_count": null,
   "metadata": {
    "id": "tYW_rP5V2mYr",
    "outputId": "8f1b0f30-cb7f-43aa-f125-b4a5c6c2242d"
   },
   "outputs": [],
   "source": [
    "#=================================================-\n",
    "#### Slide 12/30: Compound visualizations: labeling axes  ####\n",
    "\n",
    "# Histogram.\n",
    "axes[0, 0].set_ylabel('BMI distribution')\n",
    "axes[0, 0].set_xlabel('BMI')\n",
    "\n",
    "# Boxplot.\n",
    "axes[0, 1].set_ylabel('BMI')\n",
    "\n",
    "# Scatterplot.\n",
    "axes[1, 0].set_xlabel('BMI')\n",
    "axes[1, 0].set_ylabel('SkinThickness')\n",
    "\n",
    "# Mean values of categories of variable means.\n",
    "axes[1, 1].set_ylabel('Mean values')\n",
    "\n",
    "\n"
   ]
  },
  {
   "cell_type": "code",
   "execution_count": null,
   "metadata": {
    "id": "O51BGBhI2mYr",
    "outputId": "5e635c49-e188-40af-a63d-3d1fd9a3af93"
   },
   "outputs": [],
   "source": [
    "#=================================================-\n",
    "#### Slide 13/30: Compound visualizations: labeling ticks   ####\n",
    "\n",
    "# No labels for ticks for boxplot.\n",
    "axes[0, 1].xaxis.set_ticklabels([\"\"])\n",
    "# Tick positions set to bar positions in bar chart.\n",
    "axes[1, 1].xaxis.set_ticks(bar_positions)\n",
    "\n",
    "# Tick labels set to bar categories in bar chart.\n",
    "axes[1, 1].xaxis.set_ticklabels(bar_labels,rotation = 18)\n",
    "\n",
    "\n"
   ]
  },
  {
   "cell_type": "code",
   "execution_count": null,
   "metadata": {
    "id": "gxKdgSl22mYr",
    "outputId": "e46e97cb-a1d9-40b1-a65f-d42dab962461"
   },
   "outputs": [],
   "source": [
    "#=================================================-\n",
    "#### Slide 14/30: Compound visualizations: figure adjustments  ####\n",
    "\n",
    "plt.rcParams['axes.labelsize'] = 20\n",
    "plt.rcParams['figure.titlesize'] = 25\n",
    "fig.set_size_inches(18, 7.5)\n",
    "fig.suptitle('Data Summary')\n",
    "\n",
    "\n"
   ]
  },
  {
   "cell_type": "code",
   "execution_count": null,
   "metadata": {
    "id": "P4M2R28x2mYr",
    "outputId": "eae97af5-cea5-408d-8cf7-caadd9badd81"
   },
   "outputs": [],
   "source": [
    "#=================================================-\n",
    "#### Slide 15/30: Compound visualizations: putting it all together  ####\n",
    "\n",
    "plt.clf()\n",
    "plt.figure(figsize = (8, 8))\n",
    "plt.rcParams.update({'font.size': 14})\n",
    "fig, axes = plt.subplots(2, 2) \n",
    "\n",
    "color_dict = {int('0'): 'darkseagreen', \n",
    "              int('1'): 'palevioletred'}\n",
    "color = df_subset['Outcome'].map(color_dict)\n",
    "axes[0, 0].hist(df_subset['SkinThickness'],\n",
    "                facecolor = 'goldenrod') #<- set color\n",
    "axes[0, 1].boxplot(df_subset['SkinThickness']) \n",
    "axes[1, 0].scatter(df_subset['SkinThickness'],\n",
    "                   df_subset['Glucose'],\n",
    "                   c = color,\n",
    "                   alpha = 0.3)\n",
    "axes[1, 1].bar(bar_positions, bar_heights,\n",
    "               color = \"salmon\")\n",
    "               \n",
    "# Histogram.\n",
    "axes[0, 0].set_ylabel('SkinThickness distribution')\n",
    "axes[0, 0].set_xlabel('SkinThickness')\n",
    "\n",
    "# Boxplot.\n",
    "axes[0, 1].set_ylabel('SkinThickness')\n",
    "\n",
    "# Scatterplot.\n",
    "axes[1, 0].set_xlabel('SkinThickness')\n",
    "axes[1, 0].set_ylabel('Glucose')\n",
    "\n",
    "# Mean values of categories of variable means.\n",
    "axes[1, 1].set_ylabel('Mean values')  \n",
    "\n",
    "# No labels for ticks for boxplot.\n",
    "axes[0, 1].xaxis.set_ticklabels([\"\"])\n",
    "\n",
    "# Tick positions set to bar positions in bar chart.\n",
    "axes[1, 1].xaxis.set_ticks(bar_positions)\n",
    "\n",
    "# Tick labels set to bar categories in bar chart.\n",
    "axes[1, 1].xaxis.set_ticklabels(bar_labels,rotation = 18)\n",
    "\n",
    "plt.rcParams['axes.labelsize'] = 20\n",
    "plt.rcParams['figure.titlesize'] = 25\n",
    "fig.set_size_inches(18, 7.5)\n",
    "fig.suptitle('Data Summary')\n",
    "plt.show()\n",
    "\n",
    "\n"
   ]
  },
  {
   "cell_type": "code",
   "execution_count": null,
   "metadata": {
    "id": "Uy2itN2X2mYs",
    "outputId": "b3ed07ac-b1d9-48cb-fd73-7d01bc4c93d8"
   },
   "outputs": [],
   "source": [
    "#=================================================-\n",
    "#### Slide 18/30: Compound visualizations: layered plots (cont'd)  ####\n",
    "\n",
    "plt.clf()                  #<- clear plotting area\n",
    "fig, axes = plt.subplots() #<- create a new figure and axes objects for plotting\n",
    "\n",
    "grouping_col_levels = list(df_grouped_mean_long[grouping_col].unique())\n",
    "grouping_category_1 = grouping_col_levels[0]\n",
    "grouping_category_2 = grouping_col_levels[1]\n",
    "\n",
    "for key, value in color_dict.items():\n",
    "    query = str('Outcome') + '==' + str(key)\n",
    "    sc_col_1 = df_subset.query(query)['BMI']\n",
    "    sc_col_2 = df_subset.query(query)['SkinThickness']\n",
    "\n",
    "    if key == int(grouping_category_1):\n",
    "        Flag = \"Category 1\"\n",
    "    else:\n",
    "        Flag = \"Category 2\"\n",
    "\n",
    "    axes.scatter(sc_col_1, \n",
    "                 sc_col_2, \n",
    "                 c = value, \n",
    "                 label = Flag,\n",
    "                 alpha = 0.3)\n",
    "axes.legend()  #<- add a legend that would automatically get labels and colors from layers!   \n",
    "\n",
    "plt.show()\n",
    "\n",
    "\n"
   ]
  },
  {
   "cell_type": "code",
   "execution_count": null,
   "metadata": {
    "id": "iyhAfS2e2mYs",
    "outputId": "5ef5c800-84e1-4583-ca75-f2bd20c97b22"
   },
   "outputs": [],
   "source": [
    "#=================================================-\n",
    "#### Slide 20/30: Compound visualizations: layered plots (cont'd)  ####\n",
    "\n",
    "# We already have `'Outcome'` = `'0'` mean data.\n",
    "print(df_true_means.head())\n",
    "# Let's get the `'Outcome'` = `'1'` mean data.\n",
    "query = str('Outcome') + '==' + str('1')\n",
    "df_false_means = df_grouped_mean_long.query(query)[['metric','mean']]\n",
    "print(df_false_means)\n",
    "\n",
    "\n"
   ]
  },
  {
   "cell_type": "code",
   "execution_count": null,
   "metadata": {
    "id": "vJUQdZxh2mYs"
   },
   "outputs": [],
   "source": [
    "#=================================================-\n",
    "#### Slide 21/30: Compound visualizations: layered plots (cont'd)  ####\n",
    "\n",
    "# Mean values for `'Outcome'` = `'0'` data.\n",
    "category_1_bar_heights = df_true_means['mean'] \n",
    "# Mean values for `'Outcome'` = `'1'` data.\n",
    "category_2_bar_heights = df_false_means['mean']  \n",
    "# Labels of bars, their width, and positions are shared for both categories.\n",
    "bar_labels = df_false_means['metric'] \n",
    "num_bars = len(bar_labels)\n",
    "bar_positions = np.arange(num_bars)       \n",
    "width = 0.35\n",
    "\n",
    "\n"
   ]
  },
  {
   "cell_type": "code",
   "execution_count": null,
   "metadata": {
    "id": "a1qqMyl82mYs",
    "outputId": "10dde00e-7758-42bf-ef30-9092279106d2"
   },
   "outputs": [],
   "source": [
    "#=================================================-\n",
    "#### Slide 22/30: Compound visualizations: layered plots (cont'd)  ####\n",
    "\n",
    "# Clear the plotting area for the new plot.\n",
    "plt.clf()\n",
    "# Create the figure and axes objects.\n",
    "fig, axes = plt.subplots()\n",
    "category_1_bar_chart = axes.bar(bar_positions,          #<- set bar positions\n",
    "                            category_1_bar_heights,     #<- set bar heights\n",
    "                            width,                 #<- set width of the bars\n",
    "                            color = color_dict[0]) #<- set color corresponding to '0' in dictionary\n",
    "category_2_bar_chart = axes.bar(bar_positions + width, #<- set bar positions \n",
    "                          category_2_bar_heights,      #<- set bar heights\n",
    "                          width,                 #<- set width of the bars\n",
    "                          color = color_dict[1]) #<- set color corresponding to '1' in dictionary\n",
    "\n",
    "\n"
   ]
  },
  {
   "cell_type": "code",
   "execution_count": null,
   "metadata": {
    "id": "hyDgVS6c2mYs",
    "outputId": "e5253e6f-9909-43e5-ba18-7ed434a4f881"
   },
   "outputs": [],
   "source": [
    "#=================================================-\n",
    "#### Slide 23/30: Compound visualizations: layered plots (cont'd)  ####\n",
    "\n",
    "# Add text for labels, title and axes ticks.\n",
    "axes.set_ylabel('Mean values')\n",
    "axes.set_title('Data metrics summary')\n",
    "axes.set_xticks(bar_positions + width/2)\n",
    "axes.set_xticklabels(bar_labels)\n",
    "\n",
    "\n"
   ]
  },
  {
   "cell_type": "code",
   "execution_count": null,
   "metadata": {
    "id": "DuZRW47d2mYs",
    "outputId": "9cb75e94-5303-4cf9-ef51-9439995e20e8"
   },
   "outputs": [],
   "source": [
    "#=================================================-\n",
    "#### Slide 24/30: Compound visualizations: layered plots (cont'd)  ####\n",
    "\n",
    "# Clear the plotting area for the new plot.\n",
    "plt.clf()\n",
    "# Create the figure and axes objects.\n",
    "fig, axes = plt.subplots()\n",
    "\n",
    "category_1_bar_chart = axes.bar(bar_positions,          #<- set bar positions\n",
    "                            category_1_bar_heights,     #<- set bar heights\n",
    "                            width,                 #<- set width of the bars\n",
    "                            color = color_dict[0]) #<- set color corresponding to '0' in dictionary\n",
    "category_2_bar_chart = axes.bar(bar_positions + width, #<- set bar positions \n",
    "                          category_2_bar_heights,      #<- set bar heights\n",
    "                          width,                 #<- set width of the bars\n",
    "                          color = color_dict[1]) #<- set color corresponding to '1' in dictionary\n",
    "\n",
    "# Add text for labels, title and axes ticks.\n",
    "axes.set_ylabel('Mean values')\n",
    "axes.set_title('Data metrics summary')\n",
    "axes.set_xticks(bar_positions + width/2)\n",
    "axes.set_xticklabels(bar_labels)\n",
    "\n",
    "# Add a legend for each chart and corresponding labels.\n",
    "axes.legend((category_1_bar_chart, category_2_bar_chart), (f'{grouping_category_1}', f'{grouping_category_2}'))\n",
    "fig.set_size_inches(12, 4)\n",
    "plt.show()\n",
    "\n",
    "\n"
   ]
  },
  {
   "cell_type": "code",
   "execution_count": null,
   "metadata": {
    "id": "YCwuDC102mYt",
    "tags": []
   },
   "outputs": [],
   "source": [
    "#=================================================-\n",
    "#### Slide 28/30: Exercise  ####\n",
    "\n",
    "\n",
    "\n",
    "\n",
    "#######################################################\n",
    "####  CONGRATULATIONS ON COMPLETING THIS MODULE!   ####\n",
    "#######################################################\n"
   ]
  }
 ],
 "metadata": {
  "colab": {
   "collapsed_sections": [],
   "provenance": []
  },
  "kernelspec": {
   "display_name": "Python 3 (ipykernel)",
   "language": "python",
   "name": "python3"
  },
  "language_info": {
   "codemirror_mode": {
    "name": "ipython",
    "version": 3
   },
   "file_extension": ".py",
   "mimetype": "text/x-python",
   "name": "python",
   "nbconvert_exporter": "python",
   "pygments_lexer": "ipython3",
   "version": "3.10.6"
  }
 },
 "nbformat": 4,
 "nbformat_minor": 4
}
