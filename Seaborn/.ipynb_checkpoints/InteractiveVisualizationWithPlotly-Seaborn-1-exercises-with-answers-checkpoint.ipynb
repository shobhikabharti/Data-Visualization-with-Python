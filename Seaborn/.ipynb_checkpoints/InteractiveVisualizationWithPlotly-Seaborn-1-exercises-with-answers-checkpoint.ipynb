{
 "cells": [
  {
   "cell_type": "markdown",
   "id": "e7670f7c",
   "metadata": {},
   "source": [
    "## INTERACTIVEVISUALIZATIONWITHPLOTLY/SEABORN/INTERACTIVEVISUALIZATIONWITHPLOTLY SEABORN 1 EXERCISE ANSWERS ##\n",
    "#### Please refer to module 1 of InteractiveVisualizationWithPlotly - Seaborn for Tasks 1-10\n",
    "#### Task 1\n",
    "##### Load seaborn as sns and matplotlib.pyplot as plt for plotting data.\n",
    "##### Load in the dataset `tips` from the sns repository and save it to the variable tips.\n",
    "#### Result:\n"
   ]
  },
  {
   "cell_type": "code",
   "execution_count": null,
   "id": "c58a40e5",
   "metadata": {},
   "outputs": [],
   "source": [
    "import seaborn as sns\n",
    "import matplotlib.pyplot as plt\n",
    "tips = sns.load_dataset(\"tips\")\n"
   ]
  },
  {
   "cell_type": "markdown",
   "id": "70d6f588",
   "metadata": {},
   "source": [
    "#### Task 2\n",
    "##### View the top 10 rows of `tips`.  \n",
    "#### Result:\n"
   ]
  },
  {
   "cell_type": "code",
   "execution_count": null,
   "id": "9b258e9c",
   "metadata": {},
   "outputs": [],
   "source": [
    "tips.head(10)\n"
   ]
  },
  {
   "cell_type": "markdown",
   "id": "a65c6205",
   "metadata": {},
   "source": [
    "#### Task 3\n",
    "##### Create a histogram of the column `tip`.\n",
    "##### Create a layered histogram of `tip` by `smoker`\n",
    "#### Result:\n"
   ]
  },
  {
   "cell_type": "code",
   "execution_count": null,
   "id": "933dfe12",
   "metadata": {},
   "outputs": [],
   "source": [
    "sns.histplot(tips, x = \"tip\")\n",
    "sns.histplot(tips, x = \"tip\", hue = \"smoker\")\n"
   ]
  },
  {
   "cell_type": "markdown",
   "id": "40a873f0",
   "metadata": {},
   "source": [
    "#### Task 4\n",
    "##### Create a boxplot of `total_bill`.\n",
    "##### Create a second boxplot of `total_bill` grouped by `day`.\n",
    "#### Result:\n"
   ]
  },
  {
   "cell_type": "code",
   "execution_count": null,
   "id": "0f8646e7",
   "metadata": {},
   "outputs": [],
   "source": [
    "sns.boxplot(tips, y = 'total_bill')\n",
    "sns.boxplot(tips, x = 'day', y = 'total_bill')\n"
   ]
  },
  {
   "cell_type": "markdown",
   "id": "e1fef6fa",
   "metadata": {},
   "source": [
    "#### Task 5\n",
    "##### Create a bar plot of `tips` grouped by `day`.\n",
    "##### Create a second bar plot of `tips` grouped by `day` and `time`.\n",
    "##### Both plots should display the confidence interval based on the standard deviation.\n",
    "#### Result:\n"
   ]
  },
  {
   "cell_type": "code",
   "execution_count": null,
   "id": "5687c829",
   "metadata": {},
   "outputs": [],
   "source": [
    "sns.barplot(tips, \n",
    "     x = 'day', \n",
    "     y = 'tip', \n",
    "     ci = \"sd\")\n",
    "sns.barplot(tips,x='day', y='tip', hue='time', ci='sd')\n"
   ]
  },
  {
   "cell_type": "markdown",
   "id": "9826fe1b",
   "metadata": {},
   "source": [
    "#### Task 6\n",
    "##### Create a scatterplot of `tips` versus `total_bill`.\n",
    "#### Result:\n"
   ]
  },
  {
   "cell_type": "code",
   "execution_count": null,
   "id": "1f17ae84",
   "metadata": {},
   "outputs": [],
   "source": [
    "sns.scatterplot(data = tips, \n",
    "          x = \"tip\", \n",
    "          y = \"total_bill\")\n"
   ]
  },
  {
   "cell_type": "markdown",
   "id": "521021ca",
   "metadata": {},
   "source": [
    "#### Task 7\n",
    "##### Create a linear model plot of `tips` versus `total_bill`.\n",
    "#### Result:\n"
   ]
  },
  {
   "cell_type": "code",
   "execution_count": null,
   "id": "ee5c9b8a",
   "metadata": {},
   "outputs": [],
   "source": [
    "sns.lmplot(data=tips, \n",
    "          x = \"tip\", \n",
    "          y = \"total_bill\",\n",
    "          fit_reg = True)\n"
   ]
  },
  {
   "cell_type": "markdown",
   "id": "7de9f197",
   "metadata": {},
   "source": [
    "#### Task 8\n",
    "##### Create a residual plot of `tips` versus `total_bill`.\n",
    "##### Does the linear model seem like a good model for this data?\n",
    "#### Result:\n"
   ]
  },
  {
   "cell_type": "code",
   "execution_count": null,
   "id": "3fee8517",
   "metadata": {},
   "outputs": [],
   "source": [
    "sns.residplot(data = tips, \n",
    "          x = \"tip\", \n",
    "          y = \"total_bill\", \n",
    "          lowess = True, \n",
    "          color = \"b\")\n",
    "          \n",
    "# Yes, the dots are pretty scattered around the line at zero. There may be a few outliers.\n"
   ]
  },
  {
   "cell_type": "markdown",
   "id": "7b548f74",
   "metadata": {},
   "source": [
    "#### Task 9\n",
    "##### Create a heatmap of `total_bill` by day and time using the below code to make a pivot table.\n"
   ]
  },
  {
   "cell_type": "code",
   "execution_count": null,
   "id": "b547fc7a",
   "metadata": {},
   "outputs": [],
   "source": [
    "tips2 = tips.groupby(['day', 'time']).mean()[['total_bill']]\n",
    "tips2.reset_index(inplace = True)\n",
    "tips2 = tips2.pivot('day', 'time', 'total_bill')`\n"
   ]
  },
  {
   "cell_type": "markdown",
   "id": "2ee5b533",
   "metadata": {},
   "source": [
    "##### Use tips2 to create a heatmap.\n",
    "#### Result:\n"
   ]
  },
  {
   "cell_type": "code",
   "execution_count": null,
   "id": "739cdf94",
   "metadata": {},
   "outputs": [],
   "source": [
    "sns.heatmap(tips2)\n"
   ]
  },
  {
   "cell_type": "markdown",
   "id": "71fb4fc2",
   "metadata": {},
   "source": [
    "#### Task 10\n",
    "##### Use the code from Task 4 for the second boxplot and change the xlabel to `Days of the Week` and the ylabel to `Total Bill ($)` and the title to `Distributions of restaurant bills over the week`\n",
    "#### Result:\n"
   ]
  },
  {
   "cell_type": "code",
   "execution_count": null,
   "id": "18bddec9",
   "metadata": {},
   "outputs": [],
   "source": [
    "g = sns.boxplot(tips, \n",
    "      x = 'day', \n",
    "      y = 'total_bill')\n",
    "      \n",
    "g.set(xlabel = 'Days of the Week', \n",
    "          ylabel = 'Total Bill ($)', \n",
    "          title = 'Distributions of restaurant bills over the week')\n"
   ]
  }
 ],
 "metadata": {
  "language": "python"
 },
 "nbformat": 4,
 "nbformat_minor": 5
}
